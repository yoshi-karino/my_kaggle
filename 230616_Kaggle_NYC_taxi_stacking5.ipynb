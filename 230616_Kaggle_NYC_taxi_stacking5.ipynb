{
  "cells": [
    {
      "cell_type": "markdown",
      "metadata": {
        "id": "view-in-github",
        "colab_type": "text"
      },
      "source": [
        "<a href=\"https://colab.research.google.com/github/yoshi-karino/my_kaggle/blob/main/230616_Kaggle_NYC_taxi_stacking5.ipynb\" target=\"_parent\"><img src=\"https://colab.research.google.com/assets/colab-badge.svg\" alt=\"Open In Colab\"/></a>"
      ]
    },
    {
      "cell_type": "code",
      "source": [
        "import numpy as np\n",
        "import pandas as pd\n",
        "import matplotlib.pyplot as plt\n",
        "import seaborn as sns\n",
        "\n",
        "from sklearn.feature_selection import SelectKBest\n",
        "from sklearn.ensemble import RandomForestClassifier\n",
        "from sklearn.ensemble import RandomForestRegressor\n",
        "\n",
        "from sklearn.pipeline import make_pipeline\n",
        "from sklearn.model_selection import cross_validate\n",
        "from sklearn.feature_selection import SelectKBest\n",
        "from sklearn.feature_selection import RFE\n",
        "\n",
        "#from xfeat import SelectCategorical, LabelEncoder, Pipeline, ConcatCombination, SelectNumerical, \\\n",
        "#    ArithmeticCombinations, TargetEncoder, aggregation, GBDTFeatureSelector, GBDTFeatureExplorer\n",
        "\n",
        "from sklearn.model_selection import KFold\n",
        "from sklearn.model_selection import train_test_split\n",
        "\n",
        "from sklearn.ensemble import RandomForestRegressor\n",
        "from sklearn.model_selection import train_test_split\n",
        "\n",
        "from xgboost import XGBRegressor\n",
        "\n",
        "from sklearn.metrics import mean_squared_error"
      ],
      "metadata": {
        "id": "8zpawJ8fAj30"
      },
      "execution_count": 2,
      "outputs": []
    },
    {
      "cell_type": "code",
      "source": [
        "!ls -la\n"
      ],
      "metadata": {
        "id": "3FrcfNrowg8y",
        "colab": {
          "base_uri": "https://localhost:8080/"
        },
        "outputId": "cc2978e9-a598-4404-94d5-f5740a8c40d4"
      },
      "execution_count": 13,
      "outputs": [
        {
          "output_type": "stream",
          "name": "stdout",
          "text": [
            "total 49104\n",
            "drwxr-xr-x 1 root root     4096 Jun 16 08:10 .\n",
            "drwxr-xr-x 1 root root     4096 Jun 16 07:30 ..\n",
            "drwxr-xr-x 4 root root     4096 Jun 14 18:26 .config\n",
            "drwxr-xr-x 1 root root     4096 Jun 14 18:27 sample_data\n",
            "-rw-r--r-- 1 root root   983020 Jun 16 08:10 test.csv\n",
            "-rw-r--r-- 1 root root 49283072 Jun 16 08:15 train_5per.csv\n"
          ]
        }
      ]
    },
    {
      "cell_type": "code",
      "source": [
        "train1 = pd.read_csv('./train_5per.csv')\n",
        "test1 = pd.read_csv('./test.csv')\n",
        "train1.shape"
      ],
      "metadata": {
        "id": "Sjcqk-OZApVM",
        "colab": {
          "base_uri": "https://localhost:8080/"
        },
        "outputId": "2fbe3935-873d-4066-a72e-1d50a5ebd783"
      },
      "execution_count": 20,
      "outputs": [
        {
          "output_type": "execute_result",
          "data": {
            "text/plain": [
              "(500923, 9)"
            ]
          },
          "metadata": {},
          "execution_count": 20
        }
      ]
    },
    {
      "cell_type": "code",
      "source": [
        "data5p=pd.concat([train1, test1], axis=0)\n",
        "#data5p=train1\n",
        "data5p.shape\n"
      ],
      "metadata": {
        "colab": {
          "base_uri": "https://localhost:8080/"
        },
        "id": "kDLUU1V19Yrx",
        "outputId": "58c706d3-0e43-47eb-9fe7-f22be29e47a0"
      },
      "execution_count": 21,
      "outputs": [
        {
          "output_type": "execute_result",
          "data": {
            "text/plain": [
              "(510837, 9)"
            ]
          },
          "metadata": {},
          "execution_count": 21
        }
      ]
    },
    {
      "cell_type": "code",
      "source": [
        "display(train1.shape)\n",
        "display(test1.shape)\n",
        "display(data5p.shape)"
      ],
      "metadata": {
        "colab": {
          "base_uri": "https://localhost:8080/",
          "height": 69
        },
        "id": "g61lElsOWiF4",
        "outputId": "27f81e08-be5a-4a4f-f538-303ac5f5520e"
      },
      "execution_count": 22,
      "outputs": [
        {
          "output_type": "display_data",
          "data": {
            "text/plain": [
              "(500923, 9)"
            ]
          },
          "metadata": {}
        },
        {
          "output_type": "display_data",
          "data": {
            "text/plain": [
              "(9914, 7)"
            ]
          },
          "metadata": {}
        },
        {
          "output_type": "display_data",
          "data": {
            "text/plain": [
              "(510837, 9)"
            ]
          },
          "metadata": {}
        }
      ]
    },
    {
      "cell_type": "code",
      "source": [
        "#6371 * ACOS(COS(緯度1*PI()/180) * COS(緯度2*PI()/180) * COS(経度2*PI()/180-経度1*PI()/180) +\n",
        "#SIN(緯度1*PI()/180) * SIN(緯度2*PI()/180) )\n",
        "# 53,614,669\n",
        "# 1,809,187\n",
        "# display(data5p[data5p ['pickup_latitude'] >= 40.79331038625757]\n",
        "\n",
        "from math import cos\n",
        "from math import sin\n",
        "from math import acos\n",
        "from math import pi\n"
      ],
      "metadata": {
        "id": "d_9zdnE_BRVP"
      },
      "execution_count": 23,
      "outputs": []
    },
    {
      "cell_type": "code",
      "source": [
        "#値が 0, null のものを除外 (乗車地、降車値)\n",
        "data5p = data5p[\\\n",
        " (data5p['pickup_latitude'] != 0) & \\\n",
        " (data5p['pickup_latitude'].notnull()) & \\\n",
        " (data5p['pickup_longitude'] != 0) & \\\n",
        " (data5p['pickup_longitude'].notnull()) & \\\n",
        " (data5p['dropoff_latitude'] != 0) & \\\n",
        " (data5p['dropoff_latitude'].notnull()) & \\\n",
        " (data5p['dropoff_longitude'] != 0) & \\\n",
        " (data5p['dropoff_longitude'].notnull())]\n",
        "\n",
        "data5p['dropoff_longitude'].count()\n"
      ],
      "metadata": {
        "colab": {
          "base_uri": "https://localhost:8080/"
        },
        "id": "6J_N9ZVZG99V",
        "outputId": "c98b6d69-4e9b-43da-ffa6-1e048c537eab"
      },
      "execution_count": 24,
      "outputs": [
        {
          "output_type": "execute_result",
          "data": {
            "text/plain": [
              "500852"
            ]
          },
          "metadata": {},
          "execution_count": 24
        }
      ]
    },
    {
      "cell_type": "code",
      "source": [
        "data5p [data5p ['fare_amount'].isnull()].count()\n"
      ],
      "metadata": {
        "colab": {
          "base_uri": "https://localhost:8080/"
        },
        "id": "KvB09fCOJdH_",
        "outputId": "b31e80ab-5305-481a-9151-f09275f6f3da"
      },
      "execution_count": 25,
      "outputs": [
        {
          "output_type": "execute_result",
          "data": {
            "text/plain": [
              "Unnamed: 0              0\n",
              "key                  9914\n",
              "fare_amount             0\n",
              "pickup_datetime      9914\n",
              "pickup_longitude     9914\n",
              "pickup_latitude      9914\n",
              "dropoff_longitude    9914\n",
              "dropoff_latitude     9914\n",
              "passenger_count      9914\n",
              "dtype: int64"
            ]
          },
          "metadata": {},
          "execution_count": 25
        }
      ]
    },
    {
      "cell_type": "code",
      "source": [
        "#緯度経度から距離計算\n",
        "#https://keisan.casio.jp/exec/system/1257670779\n",
        "#https://www.newyork.jp/%E3%83%8B%E3%83%A5%E3%83%BC%E3%83%A8%E3%83%BC%E3%82%AF-%E3%82%BF%E3%82%AF%E3%82%B7%E3%83%BC/\n",
        "\n",
        "#6371 * ACOS(COS(緯度1*PI()/180) * COS(緯度2*PI()/180) * COS(経度2*PI()/180-経度1*PI()/180) +\n",
        "#SIN(緯度1*PI()/180) * SIN(緯度2*PI()/180) )\n",
        "\n",
        "#-73.844311\t40.721319\t-73.841610\t40.712278\n",
        "#緯度 : lo, 経度 : la\n",
        "def get_distance(lo1, la1, lo2, la2):\n",
        "    a = cos(lo1 * pi /180)\n",
        "    b = cos(lo2 * pi/180)\n",
        "    c = cos(la2 * pi/180-la1*pi/180)\n",
        "    d = sin(lo1 * pi/180)\n",
        "    e = sin(lo2 * pi/180)\n",
        "    if (a * b * c + d * e) > 1 or (a * b * c + d * e) < -1:\n",
        "      x=1\n",
        "    else:\n",
        "      x = 6378 * acos(a * b * c + d * e)\n",
        "    return x\n",
        "#a = get_distance(35.84533779636394, 140.02901301071623, 35.71411998128971, 139.7766630867319)\n",
        "#a = get_distance(-73.844311, 40.721319, -73.841610, 40.712278)\n",
        "#a = get_distance(40.795965739777536,  -73.46793131074821,  40.790813764196415, -73.36682627815249)\n",
        "#-73.877028\t40.756455\t-73.877028\t40.756455\n",
        "a = get_distance(40.756455,  -73.877028,  40.756455, -73.877028)\n"
      ],
      "metadata": {
        "id": "dsSpQZ4CP8fA"
      },
      "execution_count": 26,
      "outputs": []
    },
    {
      "cell_type": "code",
      "source": [
        "#   距離\n",
        "data5p ['dist'] = \\\n",
        "data5p[\\\n",
        " (data5p['pickup_latitude'] != 0) & \\\n",
        " (data5p['pickup_latitude'].notnull()) & \\\n",
        " (data5p['pickup_longitude'] != 0) & \\\n",
        " (data5p['pickup_longitude'].notnull()) & \\\n",
        " (data5p['dropoff_latitude'] != 0) & \\\n",
        " (data5p['dropoff_latitude'].notnull()) & \\\n",
        " (data5p['dropoff_longitude'] != 0) & \\\n",
        " (data5p['dropoff_longitude'].notnull())]\\\n",
        " .apply(lambda x : get_distance(x['pickup_latitude'], x['pickup_longitude'], x['dropoff_latitude'], x['dropoff_longitude']), axis=1)\n"
      ],
      "metadata": {
        "id": "rhQwRte7JdgK"
      },
      "execution_count": 27,
      "outputs": []
    },
    {
      "cell_type": "code",
      "source": [
        "#時差調整 (NY時間にする)\n",
        "import datetime\n",
        "\n",
        "data5p['pickup_datetime'] = pd.to_datetime(data5p['pickup_datetime'])-datetime.timedelta(hours=4)"
      ],
      "metadata": {
        "id": "FrYY6j3QyY1Z"
      },
      "execution_count": 28,
      "outputs": []
    },
    {
      "cell_type": "code",
      "source": [
        "#年、月、日、時を出す\n",
        "data5p['pickup_year'] = data5p['pickup_datetime'].dt.year\n",
        "data5p['pickup_month'] = data5p['pickup_datetime'].dt.month\n",
        "data5p['pickup_day'] = data5p['pickup_datetime'].dt.day\n",
        "data5p['pickup_hour'] = data5p['pickup_datetime'].dt.hour\n"
      ],
      "metadata": {
        "id": "GJS0yIeW0d4W"
      },
      "execution_count": 29,
      "outputs": []
    },
    {
      "cell_type": "code",
      "source": [
        "data5p.groupby('pickup_year')['fare_amount'].mean()\n"
      ],
      "metadata": {
        "colab": {
          "base_uri": "https://localhost:8080/"
        },
        "id": "b3Zk80K6Ir5S",
        "outputId": "b19ddea4-0e74-4c7c-ae4c-ca689d6ab34a"
      },
      "execution_count": 30,
      "outputs": [
        {
          "output_type": "execute_result",
          "data": {
            "text/plain": [
              "pickup_year\n",
              "2008     9.770000\n",
              "2009    10.012814\n",
              "2010    10.120672\n",
              "2011    10.474397\n",
              "2012    11.158646\n",
              "2013    12.491821\n",
              "2014    12.912782\n",
              "2015    12.934160\n",
              "Name: fare_amount, dtype: float64"
            ]
          },
          "metadata": {},
          "execution_count": 30
        }
      ]
    },
    {
      "cell_type": "code",
      "source": [
        "#以下インポート\n",
        "#. 線形回帰 (二次用)\n",
        "#. K近傍法 (一次用)\n",
        "#. LGBM (一次用)\n",
        "from sklearn.linear_model import LinearRegression\n",
        "from sklearn.neighbors import KNeighborsRegressor\n",
        "from lightgbm import LGBMRegressor\n",
        "\n",
        "import math\n"
      ],
      "metadata": {
        "id": "1r-LAEjx4kAa"
      },
      "execution_count": 31,
      "outputs": []
    },
    {
      "cell_type": "code",
      "source": [
        "#.  平日か°土日か (土日 =1)\n",
        "import datetime\n",
        "data5p ['satsun'] = data5p['pickup_datetime'].\\\n",
        "apply(lambda x : x.weekday()).\\\n",
        "apply(lambda x : 1 if x > 4 and x < 7 else 0 if x < 5 else 100)\n",
        "\n",
        "#割り増し料金\n",
        "#月曜から金曜の16:00から20:00 $2.50\n",
        "#20:00から翌6:00の間 : $1\n",
        "\n",
        "data5p['rush_hour'] = data5p.\\\n",
        "apply(lambda x : 2.5 if (x['pickup_hour']>=16) and (x['pickup_hour']<=19) and (x['satsun'] == 0) else 0, axis=1)\n",
        "\n",
        "data5p['late_early'] = data5p.\\\n",
        "apply(lambda x : 1 if (x['pickup_hour']>=20) or (x['pickup_hour']<6) else 0, axis=1)\n"
      ],
      "metadata": {
        "id": "CFaU5BLYwQ09"
      },
      "execution_count": 32,
      "outputs": []
    },
    {
      "cell_type": "code",
      "source": [
        "# This function return distance calcuated from 4 points\n",
        "def haversine_np(lon1, lat1, lon2, lat2):\n",
        "\n",
        "    \"\"\"Calculate the great circle distance between two points\n",
        "    on the earth (specified in decimal degrees)\n",
        "\n",
        "    All args must be of equal length.\"\"\"\n",
        "\n",
        "    lon1, lat1, lon2, lat2 = map(np.radians, [lon1, lat1, lon2, lat2])\n",
        "\n",
        "    dlon = lon2 - lon1\n",
        "    dlat = lat2 - lat1\n",
        "\n",
        "    a = np.sin(dlat/2.0)**2 + np.cos(lat1) * np.cos(lat2) * np.sin(dlon/2.0)**2\n",
        "\n",
        "    c = 2 * np.arcsin(np.sqrt(a))\n",
        "    km = 6367 * c\n",
        "    return km"
      ],
      "metadata": {
        "id": "4hG5gu-SBADK"
      },
      "execution_count": 33,
      "outputs": []
    },
    {
      "cell_type": "code",
      "source": [
        "#名所ごとの距離\n",
        "jfk_lonlat = -73.7781, 40.6413\n",
        "lga_lonlat = -73.8740, 40.7769\n",
        "ewr_lonlat = -74.1745, 40.6895\n",
        "met_lonlat = -73.9632, 40.7794\n",
        "wtc_lonlat = -74.0099, 40.7126\n",
        "\n",
        "jfk_lonlat = -73.7781, 40.6413\n",
        "lga_lonlat = -73.8740, 40.7769\n",
        "ewr_lonlat = -74.1745, 40.6895\n",
        "met_lonlat = -73.9632, 40.7794\n",
        "wtc_lonlat = -74.0099, 40.7126\n",
        "\n",
        "def add_landmark_dropoff_distance(df, landmark_name, landmark_lonlat):\n",
        "    lon, lat = landmark_lonlat\n",
        "    df[landmark_name + '_drop_distance'] = haversine_np(lon, lat, df['dropoff_longitude'], df['dropoff_latitude']);\n",
        "    df[landmark_name + '_pickup_distance'] = haversine_np(lon, lat, df['pickup_longitude'], df['pickup_latitude']);\n",
        "\n",
        "#for a_df in [train, test]:\n",
        "for a_df in [data5p]:\n",
        "    for name, lonlat in [('jfk', jfk_lonlat), ('lga', lga_lonlat), ('ewr', ewr_lonlat), ('met', met_lonlat), ('wtc', wtc_lonlat)]:\n",
        "        add_landmark_dropoff_distance(a_df, name, lonlat)\n"
      ],
      "metadata": {
        "id": "5gQlpBYrA_BC"
      },
      "execution_count": 34,
      "outputs": []
    },
    {
      "cell_type": "code",
      "source": [
        "#↑ここまでで列の付け足しはおわり。なので提出用データと分離できる\n",
        "# 訓練用\n",
        "data5pt  = data5p [data5p ['fare_amount'].notnull()]\n",
        "\n",
        "# 提出用\n",
        "data5ps  = data5p [data5p ['fare_amount'].isnull()]\n",
        "\n",
        "display(data5pt.shape)\n",
        "display(data5ps.shape)\n"
      ],
      "metadata": {
        "colab": {
          "base_uri": "https://localhost:8080/",
          "height": 52
        },
        "id": "I6pAoBzGk1hQ",
        "outputId": "83ac65db-713e-48e6-a80d-0aebb5de20d3"
      },
      "execution_count": 35,
      "outputs": [
        {
          "output_type": "display_data",
          "data": {
            "text/plain": [
              "(490938, 27)"
            ]
          },
          "metadata": {}
        },
        {
          "output_type": "display_data",
          "data": {
            "text/plain": [
              "(9914, 27)"
            ]
          },
          "metadata": {}
        }
      ]
    },
    {
      "cell_type": "code",
      "source": [
        "data5pt = pd.read_csv('./data5pt.csv')\n",
        "data5ps = pd.read_csv('./data5ps.csv')\n"
      ],
      "metadata": {
        "colab": {
          "base_uri": "https://localhost:8080/",
          "height": 52
        },
        "id": "lo3HQhET5Ayt",
        "outputId": "ef731df7-2826-4028-999e-b6cf7ef1caed"
      },
      "execution_count": null,
      "outputs": [
        {
          "output_type": "display_data",
          "data": {
            "text/plain": [
              "(490938, 20)"
            ]
          },
          "metadata": {}
        },
        {
          "output_type": "display_data",
          "data": {
            "text/plain": [
              "(9914, 20)"
            ]
          },
          "metadata": {}
        }
      ]
    },
    {
      "cell_type": "code",
      "source": [
        "display(data5pt.shape)\n",
        "display(data5ps.shape)\n"
      ],
      "metadata": {
        "colab": {
          "base_uri": "https://localhost:8080/",
          "height": 52
        },
        "id": "2wi0xGuMEIh9",
        "outputId": "97840dde-0aa5-4d0d-c2f6-06a6f71ee938"
      },
      "execution_count": 37,
      "outputs": [
        {
          "output_type": "display_data",
          "data": {
            "text/plain": [
              "(490938, 27)"
            ]
          },
          "metadata": {}
        },
        {
          "output_type": "display_data",
          "data": {
            "text/plain": [
              "(9914, 27)"
            ]
          },
          "metadata": {}
        }
      ]
    },
    {
      "cell_type": "code",
      "source": [
        "#料金 <$1, >$500 を除外\n",
        "# NY市内\n",
        "#. 40 < latitude 42\n",
        "#  -75 < longitude < -72\n",
        "# 1 <= 乗客 <=6\n",
        "\n",
        "def remove_outliers(df):\n",
        "    return df[(df['fare_amount'] >=1.) &\n",
        "              (df['fare_amount'] <= 500.) &\n",
        "              (df['pickup_longitude'] >= -75) &\n",
        "              (df['pickup_longitude'] <= -72) &\n",
        "              (df['dropoff_longitude'] >= -75) &\n",
        "              (df['dropoff_longitude'] <= -72) &\n",
        "              (df['pickup_latitude'] >= 40) &\n",
        "              (df['pickup_latitude'] <= 42) &\n",
        "              (df['dropoff_latitude'] >=40) &\n",
        "              (df['dropoff_latitude'] <= 42) &\n",
        "              (df['passenger_count'] >= 1) &\n",
        "              (df['passenger_count'] <= 6)]\n"
      ],
      "metadata": {
        "id": "JYZMXKhjC05l"
      },
      "execution_count": 38,
      "outputs": []
    },
    {
      "cell_type": "code",
      "source": [
        "data5pt  = remove_outliers(data5pt)"
      ],
      "metadata": {
        "id": "cJtd1XRLC-Pv"
      },
      "execution_count": 39,
      "outputs": []
    },
    {
      "cell_type": "code",
      "source": [
        "data5pt.to_csv('./data5pt.csv')\n",
        "data5ps.to_csv('./data5ps.csv')"
      ],
      "metadata": {
        "id": "IAfmpDs4o3cP"
      },
      "execution_count": 40,
      "outputs": []
    },
    {
      "cell_type": "code",
      "source": [
        "#距離と料金の相関\n",
        "import seaborn as sns\n",
        "\n",
        "sns.scatterplot(data=data5pt[(data5pt['dist'] >=1) & (data5pt['dist'] <=10) & (data5pt['dist'] <40)], y='fare_amount', x='dist')\n",
        "data5pt[data5pt['fare_amount'] < 3.1]['fare_amount'].count()\n",
        "display(data5pt[data5pt['dist']<0.5]['fare_amount'].count())\n"
      ],
      "metadata": {
        "colab": {
          "base_uri": "https://localhost:8080/",
          "height": 466
        },
        "id": "oCXyx0aQwAbC",
        "outputId": "e0618cc7-65f8-4878-ceb4-a29faf403515"
      },
      "execution_count": 41,
      "outputs": [
        {
          "output_type": "display_data",
          "data": {
            "text/plain": [
              "20089"
            ]
          },
          "metadata": {}
        },
        {
          "output_type": "display_data",
          "data": {
            "text/plain": [
              "<Figure size 640x480 with 1 Axes>"
            ],
            "image/png": "[encoded data removed]"
          },
          "metadata": {}
        }
      ]
    },
    {
      "cell_type": "code",
      "source": [
        "display(data5pt[data5pt['dist'] < 50][['dist', 'fare_amount']].corr())\n",
        "data5pt.shape"
      ],
      "metadata": {
        "colab": {
          "base_uri": "https://localhost:8080/",
          "height": 129
        },
        "id": "pwNgvNpfO0C1",
        "outputId": "65b38cf1-008d-4bf5-8eb6-4bcf7be48a70"
      },
      "execution_count": 42,
      "outputs": [
        {
          "output_type": "display_data",
          "data": {
            "text/plain": [
              "                 dist  fare_amount\n",
              "dist         1.000000     0.860817\n",
              "fare_amount  0.860817     1.000000"
            ],
            "text/html": [
              "\n",
              "  <div id=\"df-701037d6-ac3a-4332-96b2-cba3513afb8e\">\n",
              "    <div class=\"colab-df-container\">\n",
              "      <div>\n",
              "<style scoped>\n",
              "    .dataframe tbody tr th:only-of-type {\n",
              "        vertical-align: middle;\n",
              "    }\n",
              "\n",
              "    .dataframe tbody tr th {\n",
              "        vertical-align: top;\n",
              "    }\n",
              "\n",
              "    .dataframe thead th {\n",
              "        text-align: right;\n",
              "    }\n",
              "</style>\n",
              "<table border=\"1\" class=\"dataframe\">\n",
              "  <thead>\n",
              "    <tr style=\"text-align: right;\">\n",
              "      <th></th>\n",
              "      <th>dist</th>\n",
              "      <th>fare_amount</th>\n",
              "    </tr>\n",
              "  </thead>\n",
              "  <tbody>\n",
              "    <tr>\n",
              "      <th>dist</th>\n",
              "      <td>1.000000</td>\n",
              "      <td>0.860817</td>\n",
              "    </tr>\n",
              "    <tr>\n",
              "      <th>fare_amount</th>\n",
              "      <td>0.860817</td>\n",
              "      <td>1.000000</td>\n",
              "    </tr>\n",
              "  </tbody>\n",
              "</table>\n",
              "</div>\n",
              "      <button class=\"colab-df-convert\" onclick=\"convertToInteractive('df-701037d6-ac3a-4332-96b2-cba3513afb8e')\"\n",
              "              title=\"Convert this dataframe to an interactive table.\"\n",
              "              style=\"display:none;\">\n",
              "        \n",
              "  <svg xmlns=\"http://www.w3.org/2000/svg\" height=\"24px\"viewBox=\"0 0 24 24\"\n",
              "       width=\"24px\">\n",
              "    <path d=\"M0 0h24v24H0V0z\" fill=\"none\"/>\n",
              "    <path d=\"M18.56 5.44l.94 2.06.94-2.06 2.06-.94-2.06-.94-.94-2.06-.94 2.06-2.06.94zm-11 1L8.5 8.5l.94-2.06 2.06-.94-2.06-.94L8.5 2.5l-.94 2.06-2.06.94zm10 10l.94 2.06.94-2.06 2.06-.94-2.06-.94-.94-2.06-.94 2.06-2.06.94z\"/><path d=\"M17.41 7.96l-1.37-1.37c-.4-.4-.92-.59-1.43-.59-.52 0-1.04.2-1.43.59L10.3 9.45l-7.72 7.72c-.78.78-.78 2.05 0 2.83L4 21.41c.39.39.9.59 1.41.59.51 0 1.02-.2 1.41-.59l7.78-7.78 2.81-2.81c.8-.78.8-2.07 0-2.86zM5.41 20L4 18.59l7.72-7.72 1.47 1.35L5.41 20z\"/>\n",
              "  </svg>\n",
              "      </button>\n",
              "      \n",
              "  <style>\n",
              "    .colab-df-container {\n",
              "      display:flex;\n",
              "      flex-wrap:wrap;\n",
              "      gap: 12px;\n",
              "    }\n",
              "\n",
              "    .colab-df-convert {\n",
              "      background-color: #E8F0FE;\n",
              "      border: none;\n",
              "      border-radius: 50%;\n",
              "      cursor: pointer;\n",
              "      display: none;\n",
              "      fill: #1967D2;\n",
              "      height: 32px;\n",
              "      padding: 0 0 0 0;\n",
              "      width: 32px;\n",
              "    }\n",
              "\n",
              "    .colab-df-convert:hover {\n",
              "      background-color: #E2EBFA;\n",
              "      box-shadow: 0px 1px 2px rgba(60, 64, 67, 0.3), 0px 1px 3px 1px rgba(60, 64, 67, 0.15);\n",
              "      fill: #174EA6;\n",
              "    }\n",
              "\n",
              "    [theme=dark] .colab-df-convert {\n",
              "      background-color: #3B4455;\n",
              "      fill: #D2E3FC;\n",
              "    }\n",
              "\n",
              "    [theme=dark] .colab-df-convert:hover {\n",
              "      background-color: #434B5C;\n",
              "      box-shadow: 0px 1px 3px 1px rgba(0, 0, 0, 0.15);\n",
              "      filter: drop-shadow(0px 1px 2px rgba(0, 0, 0, 0.3));\n",
              "      fill: #FFFFFF;\n",
              "    }\n",
              "  </style>\n",
              "\n",
              "      <script>\n",
              "        const buttonEl =\n",
              "          document.querySelector('#df-701037d6-ac3a-4332-96b2-cba3513afb8e button.colab-df-convert');\n",
              "        buttonEl.style.display =\n",
              "          google.colab.kernel.accessAllowed ? 'block' : 'none';\n",
              "\n",
              "        async function convertToInteractive(key) {\n",
              "          const element = document.querySelector('#df-701037d6-ac3a-4332-96b2-cba3513afb8e');\n",
              "          const dataTable =\n",
              "            await google.colab.kernel.invokeFunction('convertToInteractive',\n",
              "                                                     [key], {});\n",
              "          if (!dataTable) return;\n",
              "\n",
              "          const docLinkHtml = 'Like what you see? Visit the ' +\n",
              "            '<a target=\"_blank\" href=https://colab.research.google.com/notebooks/data_table.ipynb>data table notebook</a>'\n",
              "            + ' to learn more about interactive tables.';\n",
              "          element.innerHTML = '';\n",
              "          dataTable['output_type'] = 'display_data';\n",
              "          await google.colab.output.renderOutput(dataTable, element);\n",
              "          const docLink = document.createElement('div');\n",
              "          docLink.innerHTML = docLinkHtml;\n",
              "          element.appendChild(docLink);\n",
              "        }\n",
              "      </script>\n",
              "    </div>\n",
              "  </div>\n",
              "  "
            ]
          },
          "metadata": {}
        },
        {
          "output_type": "execute_result",
          "data": {
            "text/plain": [
              "(488628, 27)"
            ]
          },
          "metadata": {},
          "execution_count": 42
        }
      ]
    },
    {
      "cell_type": "code",
      "source": [
        "data5p.columns"
      ],
      "metadata": {
        "colab": {
          "base_uri": "https://localhost:8080/"
        },
        "id": "CZeySa4oEmLX",
        "outputId": "842b4c03-785a-44b9-a482-be763dc4ce72"
      },
      "execution_count": 43,
      "outputs": [
        {
          "output_type": "execute_result",
          "data": {
            "text/plain": [
              "Index(['Unnamed: 0', 'key', 'fare_amount', 'pickup_datetime',\n",
              "       'pickup_longitude', 'pickup_latitude', 'dropoff_longitude',\n",
              "       'dropoff_latitude', 'passenger_count', 'dist', 'pickup_year',\n",
              "       'pickup_month', 'pickup_day', 'pickup_hour', 'satsun', 'rush_hour',\n",
              "       'late_early', 'jfk_drop_distance', 'jfk_pickup_distance',\n",
              "       'lga_drop_distance', 'lga_pickup_distance', 'ewr_drop_distance',\n",
              "       'ewr_pickup_distance', 'met_drop_distance', 'met_pickup_distance',\n",
              "       'wtc_drop_distance', 'wtc_pickup_distance'],\n",
              "      dtype='object')"
            ]
          },
          "metadata": {},
          "execution_count": 43
        }
      ]
    },
    {
      "cell_type": "code",
      "source": [
        "#訓練データから訓練、テストデータ用意\n",
        "train, test = train_test_split(data5pt, test_size=0.2)"
      ],
      "metadata": {
        "id": "6ehA3-P4GHF2"
      },
      "execution_count": 44,
      "outputs": []
    },
    {
      "cell_type": "code",
      "source": [
        "#clmgo = ['pickup_longitude', 'pickup_latitude', 'dropoff_longitude', 'dropoff_latitude', 'passenger_count', '96th1', '96th2', 'dist','satsun', 'rush_hour', 'late_early', 'pickup_year', 'pickup_month','pickup_day', 'pickup_hour']\n",
        "#clmgo = ['pickup_longitude',\n",
        "#       'pickup_latitude', 'dropoff_longitude', 'dropoff_latitude',\n",
        "#       'dist', 'pickup_year', 'pickup_month', 'pickup_day',\n",
        "#       'pickup_hour', 'satsun', 'late_early', 'rush_hour','jfk_drop_distance', 'jfk_pickup_distance',\n",
        "#       'lga_drop_distance', 'lga_pickup_distance','ewr_drop_distance',\n",
        "#       'ewr_pickup_distance', 'met_drop_distance', 'met_pickup_distance',\n",
        "#       'wtc_pickup_distance']\n",
        "\n",
        "clmgo = ['pickup_longitude',\n",
        "       'pickup_latitude', 'dropoff_longitude', 'dropoff_latitude',\n",
        "       'dist', 'pickup_year', 'pickup_month', 'pickup_day',\n",
        "       'pickup_hour','jfk_drop_distance', 'jfk_pickup_distance',\n",
        "       'lga_drop_distance', 'lga_pickup_distance','ewr_drop_distance',\n",
        "       'ewr_pickup_distance', 'met_drop_distance', 'met_pickup_distance',\n",
        "       'wtc_pickup_distance']\n",
        "\n",
        "trainx = train[clmgo].copy()\n",
        "trainy = train['fare_amount'].copy()\n",
        "\n",
        "testx = test[clmgo].copy()\n",
        "testy = test['fare_amount'].copy()\n",
        "\n",
        "data5ptX = data5pt[clmgo].copy()\n",
        "data5ptY = data5pt['fare_amount'].copy()\n",
        "\n",
        "data5psX = data5ps[clmgo].copy()\n",
        "data5psY = data5ps['fare_amount'].copy()\n",
        "\n",
        "display(trainx.shape)\n",
        "display(testy.shape)\n",
        "\n",
        "display(data5ptX.shape)\n",
        "display(data5ptY.shape)\n"
      ],
      "metadata": {
        "id": "LfZGEmIecoC6",
        "colab": {
          "base_uri": "https://localhost:8080/",
          "height": 86
        },
        "outputId": "e935d7b7-7f20-4dc2-fe9a-e68dc3a4fd4f"
      },
      "execution_count": 100,
      "outputs": [
        {
          "output_type": "display_data",
          "data": {
            "text/plain": [
              "(390902, 18)"
            ]
          },
          "metadata": {}
        },
        {
          "output_type": "display_data",
          "data": {
            "text/plain": [
              "(97726,)"
            ]
          },
          "metadata": {}
        },
        {
          "output_type": "display_data",
          "data": {
            "text/plain": [
              "(488628, 18)"
            ]
          },
          "metadata": {}
        },
        {
          "output_type": "display_data",
          "data": {
            "text/plain": [
              "(488628,)"
            ]
          },
          "metadata": {}
        }
      ]
    },
    {
      "cell_type": "code",
      "source": [
        "#data5pt ... 訓練データ\n",
        "# trainx\n",
        "#.trainy\n",
        "# testx\n",
        "#.testy\n",
        "\n",
        "#data5ps ... 提出用データ\n",
        "\n",
        "#RFR, KN, LGBインスタンス作成\n",
        "#. trainx, trainy でfit (RFR, KN, LGB)\n",
        "#. testx でpredict (RFR, KN, LGB) ... ①\n",
        "#. data5ps で predict (RFR, KN, LGB) ... ②\n",
        "#. ①(testx, testy)の結果を stack ... ③\n",
        "#. ②(data5ps) の結果を stack ...④\n",
        "#LinearRegressionインスタンス作成\n",
        "#. ③(testx, testy利用) と testy で fit (LR)\n",
        "#. ④(data5ps) で predict (LR)\n",
        "trainx.head()\n"
      ],
      "metadata": {
        "id": "Zyi5hwSRzMP_",
        "colab": {
          "base_uri": "https://localhost:8080/",
          "height": 270
        },
        "outputId": "26909b61-82bc-4a57-e809-1e4420e33d5a"
      },
      "execution_count": 101,
      "outputs": [
        {
          "output_type": "execute_result",
          "data": {
            "text/plain": [
              "        pickup_longitude  pickup_latitude  dropoff_longitude  \\\n",
              "440268        -73.991520        40.726822         -73.983535   \n",
              "296961        -73.982753        40.731066         -73.946311   \n",
              "18180         -74.009061        40.704310         -74.005275   \n",
              "24863         -73.956595        40.778075         -73.968534   \n",
              "412333        -73.992958        40.749320         -73.986260   \n",
              "\n",
              "        dropoff_latitude      dist  pickup_year  pickup_month  pickup_day  \\\n",
              "440268         40.783787  6.376826         2013             6           6   \n",
              "296961         40.772682  5.559177         2014            11          17   \n",
              "18180          40.722424  2.041546         2012             4          25   \n",
              "24863          40.750648  3.214805         2011             2          10   \n",
              "412333         40.758895  1.206262         2011             9          25   \n",
              "\n",
              "        pickup_hour  jfk_drop_distance  jfk_pickup_distance  \\\n",
              "440268           16          23.455189            20.341083   \n",
              "296961            2          20.345550            19.922351   \n",
              "18180             9          21.160542            20.686914   \n",
              "24863             9          20.126655            21.379500   \n",
              "412333            7          21.870340            21.720787   \n",
              "\n",
              "        lga_drop_distance  lga_pickup_distance  ewr_drop_distance  \\\n",
              "440268           9.248658            11.350836          19.191975   \n",
              "296961           6.103220            10.476237          21.323155   \n",
              "18180           12.600776            13.942162          14.717562   \n",
              "24863            8.474611             6.951566          18.630310   \n",
              "412333           9.657539            10.471018          17.629130   \n",
              "\n",
              "        ewr_pickup_distance  met_drop_distance  met_pickup_distance  \\\n",
              "440268            15.961990           1.779171             6.310387   \n",
              "296961            16.799246           1.605375             5.617653   \n",
              "18180             14.035335           7.254881             9.194458   \n",
              "24863             20.822034           3.226510             0.574974   \n",
              "412333            16.672576           2.993086             4.176888   \n",
              "\n",
              "        wtc_pickup_distance  \n",
              "440268             2.212258  \n",
              "296961             3.072154  \n",
              "18180              0.923934  \n",
              "24863              8.548628  \n",
              "412333             4.322726  "
            ],
            "text/html": [
              "\n",
              "  <div id=\"df-0ba2efcc-d721-48dc-ab12-fc900d539396\">\n",
              "    <div class=\"colab-df-container\">\n",
              "      <div>\n",
              "<style scoped>\n",
              "    .dataframe tbody tr th:only-of-type {\n",
              "        vertical-align: middle;\n",
              "    }\n",
              "\n",
              "    .dataframe tbody tr th {\n",
              "        vertical-align: top;\n",
              "    }\n",
              "\n",
              "    .dataframe thead th {\n",
              "        text-align: right;\n",
              "    }\n",
              "</style>\n",
              "<table border=\"1\" class=\"dataframe\">\n",
              "  <thead>\n",
              "    <tr style=\"text-align: right;\">\n",
              "      <th></th>\n",
              "      <th>pickup_longitude</th>\n",
              "      <th>pickup_latitude</th>\n",
              "      <th>dropoff_longitude</th>\n",
              "      <th>dropoff_latitude</th>\n",
              "      <th>dist</th>\n",
              "      <th>pickup_year</th>\n",
              "      <th>pickup_month</th>\n",
              "      <th>pickup_day</th>\n",
              "      <th>pickup_hour</th>\n",
              "      <th>jfk_drop_distance</th>\n",
              "      <th>jfk_pickup_distance</th>\n",
              "      <th>lga_drop_distance</th>\n",
              "      <th>lga_pickup_distance</th>\n",
              "      <th>ewr_drop_distance</th>\n",
              "      <th>ewr_pickup_distance</th>\n",
              "      <th>met_drop_distance</th>\n",
              "      <th>met_pickup_distance</th>\n",
              "      <th>wtc_pickup_distance</th>\n",
              "    </tr>\n",
              "  </thead>\n",
              "  <tbody>\n",
              "    <tr>\n",
              "      <th>440268</th>\n",
              "      <td>-73.991520</td>\n",
              "      <td>40.726822</td>\n",
              "      <td>-73.983535</td>\n",
              "      <td>40.783787</td>\n",
              "      <td>6.376826</td>\n",
              "      <td>2013</td>\n",
              "      <td>6</td>\n",
              "      <td>6</td>\n",
              "      <td>16</td>\n",
              "      <td>23.455189</td>\n",
              "      <td>20.341083</td>\n",
              "      <td>9.248658</td>\n",
              "      <td>11.350836</td>\n",
              "      <td>19.191975</td>\n",
              "      <td>15.961990</td>\n",
              "      <td>1.779171</td>\n",
              "      <td>6.310387</td>\n",
              "      <td>2.212258</td>\n",
              "    </tr>\n",
              "    <tr>\n",
              "      <th>296961</th>\n",
              "      <td>-73.982753</td>\n",
              "      <td>40.731066</td>\n",
              "      <td>-73.946311</td>\n",
              "      <td>40.772682</td>\n",
              "      <td>5.559177</td>\n",
              "      <td>2014</td>\n",
              "      <td>11</td>\n",
              "      <td>17</td>\n",
              "      <td>2</td>\n",
              "      <td>20.345550</td>\n",
              "      <td>19.922351</td>\n",
              "      <td>6.103220</td>\n",
              "      <td>10.476237</td>\n",
              "      <td>21.323155</td>\n",
              "      <td>16.799246</td>\n",
              "      <td>1.605375</td>\n",
              "      <td>5.617653</td>\n",
              "      <td>3.072154</td>\n",
              "    </tr>\n",
              "    <tr>\n",
              "      <th>18180</th>\n",
              "      <td>-74.009061</td>\n",
              "      <td>40.704310</td>\n",
              "      <td>-74.005275</td>\n",
              "      <td>40.722424</td>\n",
              "      <td>2.041546</td>\n",
              "      <td>2012</td>\n",
              "      <td>4</td>\n",
              "      <td>25</td>\n",
              "      <td>9</td>\n",
              "      <td>21.160542</td>\n",
              "      <td>20.686914</td>\n",
              "      <td>12.600776</td>\n",
              "      <td>13.942162</td>\n",
              "      <td>14.717562</td>\n",
              "      <td>14.035335</td>\n",
              "      <td>7.254881</td>\n",
              "      <td>9.194458</td>\n",
              "      <td>0.923934</td>\n",
              "    </tr>\n",
              "    <tr>\n",
              "      <th>24863</th>\n",
              "      <td>-73.956595</td>\n",
              "      <td>40.778075</td>\n",
              "      <td>-73.968534</td>\n",
              "      <td>40.750648</td>\n",
              "      <td>3.214805</td>\n",
              "      <td>2011</td>\n",
              "      <td>2</td>\n",
              "      <td>10</td>\n",
              "      <td>9</td>\n",
              "      <td>20.126655</td>\n",
              "      <td>21.379500</td>\n",
              "      <td>8.474611</td>\n",
              "      <td>6.951566</td>\n",
              "      <td>18.630310</td>\n",
              "      <td>20.822034</td>\n",
              "      <td>3.226510</td>\n",
              "      <td>0.574974</td>\n",
              "      <td>8.548628</td>\n",
              "    </tr>\n",
              "    <tr>\n",
              "      <th>412333</th>\n",
              "      <td>-73.992958</td>\n",
              "      <td>40.749320</td>\n",
              "      <td>-73.986260</td>\n",
              "      <td>40.758895</td>\n",
              "      <td>1.206262</td>\n",
              "      <td>2011</td>\n",
              "      <td>9</td>\n",
              "      <td>25</td>\n",
              "      <td>7</td>\n",
              "      <td>21.870340</td>\n",
              "      <td>21.720787</td>\n",
              "      <td>9.657539</td>\n",
              "      <td>10.471018</td>\n",
              "      <td>17.629130</td>\n",
              "      <td>16.672576</td>\n",
              "      <td>2.993086</td>\n",
              "      <td>4.176888</td>\n",
              "      <td>4.322726</td>\n",
              "    </tr>\n",
              "  </tbody>\n",
              "</table>\n",
              "</div>\n",
              "      <button class=\"colab-df-convert\" onclick=\"convertToInteractive('df-0ba2efcc-d721-48dc-ab12-fc900d539396')\"\n",
              "              title=\"Convert this dataframe to an interactive table.\"\n",
              "              style=\"display:none;\">\n",
              "        \n",
              "  <svg xmlns=\"http://www.w3.org/2000/svg\" height=\"24px\"viewBox=\"0 0 24 24\"\n",
              "       width=\"24px\">\n",
              "    <path d=\"M0 0h24v24H0V0z\" fill=\"none\"/>\n",
              "    <path d=\"M18.56 5.44l.94 2.06.94-2.06 2.06-.94-2.06-.94-.94-2.06-.94 2.06-2.06.94zm-11 1L8.5 8.5l.94-2.06 2.06-.94-2.06-.94L8.5 2.5l-.94 2.06-2.06.94zm10 10l.94 2.06.94-2.06 2.06-.94-2.06-.94-.94-2.06-.94 2.06-2.06.94z\"/><path d=\"M17.41 7.96l-1.37-1.37c-.4-.4-.92-.59-1.43-.59-.52 0-1.04.2-1.43.59L10.3 9.45l-7.72 7.72c-.78.78-.78 2.05 0 2.83L4 21.41c.39.39.9.59 1.41.59.51 0 1.02-.2 1.41-.59l7.78-7.78 2.81-2.81c.8-.78.8-2.07 0-2.86zM5.41 20L4 18.59l7.72-7.72 1.47 1.35L5.41 20z\"/>\n",
              "  </svg>\n",
              "      </button>\n",
              "      \n",
              "  <style>\n",
              "    .colab-df-container {\n",
              "      display:flex;\n",
              "      flex-wrap:wrap;\n",
              "      gap: 12px;\n",
              "    }\n",
              "\n",
              "    .colab-df-convert {\n",
              "      background-color: #E8F0FE;\n",
              "      border: none;\n",
              "      border-radius: 50%;\n",
              "      cursor: pointer;\n",
              "      display: none;\n",
              "      fill: #1967D2;\n",
              "      height: 32px;\n",
              "      padding: 0 0 0 0;\n",
              "      width: 32px;\n",
              "    }\n",
              "\n",
              "    .colab-df-convert:hover {\n",
              "      background-color: #E2EBFA;\n",
              "      box-shadow: 0px 1px 2px rgba(60, 64, 67, 0.3), 0px 1px 3px 1px rgba(60, 64, 67, 0.15);\n",
              "      fill: #174EA6;\n",
              "    }\n",
              "\n",
              "    [theme=dark] .colab-df-convert {\n",
              "      background-color: #3B4455;\n",
              "      fill: #D2E3FC;\n",
              "    }\n",
              "\n",
              "    [theme=dark] .colab-df-convert:hover {\n",
              "      background-color: #434B5C;\n",
              "      box-shadow: 0px 1px 3px 1px rgba(0, 0, 0, 0.15);\n",
              "      filter: drop-shadow(0px 1px 2px rgba(0, 0, 0, 0.3));\n",
              "      fill: #FFFFFF;\n",
              "    }\n",
              "  </style>\n",
              "\n",
              "      <script>\n",
              "        const buttonEl =\n",
              "          document.querySelector('#df-0ba2efcc-d721-48dc-ab12-fc900d539396 button.colab-df-convert');\n",
              "        buttonEl.style.display =\n",
              "          google.colab.kernel.accessAllowed ? 'block' : 'none';\n",
              "\n",
              "        async function convertToInteractive(key) {\n",
              "          const element = document.querySelector('#df-0ba2efcc-d721-48dc-ab12-fc900d539396');\n",
              "          const dataTable =\n",
              "            await google.colab.kernel.invokeFunction('convertToInteractive',\n",
              "                                                     [key], {});\n",
              "          if (!dataTable) return;\n",
              "\n",
              "          const docLinkHtml = 'Like what you see? Visit the ' +\n",
              "            '<a target=\"_blank\" href=https://colab.research.google.com/notebooks/data_table.ipynb>data table notebook</a>'\n",
              "            + ' to learn more about interactive tables.';\n",
              "          element.innerHTML = '';\n",
              "          dataTable['output_type'] = 'display_data';\n",
              "          await google.colab.output.renderOutput(dataTable, element);\n",
              "          const docLink = document.createElement('div');\n",
              "          docLink.innerHTML = docLinkHtml;\n",
              "          element.appendChild(docLink);\n",
              "        }\n",
              "      </script>\n",
              "    </div>\n",
              "  </div>\n",
              "  "
            ]
          },
          "metadata": {},
          "execution_count": 101
        }
      ]
    },
    {
      "cell_type": "code",
      "source": [
        "from sklearn.preprocessing import PolynomialFeatures\n",
        "\n",
        "poly2d = PolynomialFeatures(2,interaction_only=True)\n",
        "trainx_poly = poly2d.fit_transform(trainx)\n",
        "testx_poly = poly2d.transform(testx)\n",
        "data5psX_poly = poly2d.transform(data5psX)"
      ],
      "metadata": {
        "id": "QvLqCptGH5ib"
      },
      "execution_count": 102,
      "outputs": []
    },
    {
      "cell_type": "code",
      "source": [
        "trainx_poly_df = pd.DataFrame(data=trainx_poly)\n",
        "testx_poly_df = pd.DataFrame(data=testx_poly)\n",
        "data5psX_poly_df = pd.DataFrame(data=data5psX_poly)\n",
        "data5psX_poly_df.head()"
      ],
      "metadata": {
        "colab": {
          "base_uri": "https://localhost:8080/",
          "height": 300
        },
        "id": "6VJEeBEkYrs_",
        "outputId": "c1d0a9fb-81f5-41ee-d87a-049662b73829"
      },
      "execution_count": 103,
      "outputs": [
        {
          "output_type": "execute_result",
          "data": {
            "text/plain": [
              "   0          1          2          3          4         5       6     7    \\\n",
              "0  1.0 -73.973320  40.763805 -73.981430  40.743835  2.325812  2015.0   1.0   \n",
              "1  1.0 -73.986862  40.719383 -73.998886  40.739201  2.428018  2015.0   1.0   \n",
              "2  1.0 -73.982524  40.751260 -73.979654  40.746139  0.619308  2011.0  10.0   \n",
              "3  1.0 -73.981160  40.767807 -73.990448  40.751635  1.963187  2012.0  12.0   \n",
              "4  1.0 -73.966046  40.789775 -73.988565  40.744427  5.393220  2012.0  12.0   \n",
              "\n",
              "    8     9    ...         162        163         164         165        166  \\\n",
              "0  27.0   9.0  ...  326.932353  73.540791   33.494644  112.236785  79.903535   \n",
              "1  27.0   9.0  ...  255.030388  84.996445  109.901718   32.868464  86.949034   \n",
              "2   8.0   7.0  ...  308.729453  69.375702   61.952406   85.694584  69.329846   \n",
              "3   1.0  17.0  ...  313.272783  65.236341   33.700608  111.911317  70.970337   \n",
              "4   1.0  17.0  ...  349.436564  74.530006   19.791977  156.935649  92.185887   \n",
              "\n",
              "          167         168        169        170        171  \n",
              "0   36.392598  121.947503   8.186221  27.431105  12.493680  \n",
              "1  112.426446   33.623538  37.469450  11.206042  14.489585  \n",
              "2   61.911456   85.637941  13.912345  19.244009  17.184873  \n",
              "3   36.662748  121.747845   7.634699  25.352933  13.097137  \n",
              "4   24.480623  194.113119   5.221380  41.401655  10.994506  \n",
              "\n",
              "[5 rows x 172 columns]"
            ],
            "text/html": [
              "\n",
              "  <div id=\"df-0023fe81-0d1b-4950-9fba-6ee4e38bab77\">\n",
              "    <div class=\"colab-df-container\">\n",
              "      <div>\n",
              "<style scoped>\n",
              "    .dataframe tbody tr th:only-of-type {\n",
              "        vertical-align: middle;\n",
              "    }\n",
              "\n",
              "    .dataframe tbody tr th {\n",
              "        vertical-align: top;\n",
              "    }\n",
              "\n",
              "    .dataframe thead th {\n",
              "        text-align: right;\n",
              "    }\n",
              "</style>\n",
              "<table border=\"1\" class=\"dataframe\">\n",
              "  <thead>\n",
              "    <tr style=\"text-align: right;\">\n",
              "      <th></th>\n",
              "      <th>0</th>\n",
              "      <th>1</th>\n",
              "      <th>2</th>\n",
              "      <th>3</th>\n",
              "      <th>4</th>\n",
              "      <th>5</th>\n",
              "      <th>6</th>\n",
              "      <th>7</th>\n",
              "      <th>8</th>\n",
              "      <th>9</th>\n",
              "      <th>...</th>\n",
              "      <th>162</th>\n",
              "      <th>163</th>\n",
              "      <th>164</th>\n",
              "      <th>165</th>\n",
              "      <th>166</th>\n",
              "      <th>167</th>\n",
              "      <th>168</th>\n",
              "      <th>169</th>\n",
              "      <th>170</th>\n",
              "      <th>171</th>\n",
              "    </tr>\n",
              "  </thead>\n",
              "  <tbody>\n",
              "    <tr>\n",
              "      <th>0</th>\n",
              "      <td>1.0</td>\n",
              "      <td>-73.973320</td>\n",
              "      <td>40.763805</td>\n",
              "      <td>-73.981430</td>\n",
              "      <td>40.743835</td>\n",
              "      <td>2.325812</td>\n",
              "      <td>2015.0</td>\n",
              "      <td>1.0</td>\n",
              "      <td>27.0</td>\n",
              "      <td>9.0</td>\n",
              "      <td>...</td>\n",
              "      <td>326.932353</td>\n",
              "      <td>73.540791</td>\n",
              "      <td>33.494644</td>\n",
              "      <td>112.236785</td>\n",
              "      <td>79.903535</td>\n",
              "      <td>36.392598</td>\n",
              "      <td>121.947503</td>\n",
              "      <td>8.186221</td>\n",
              "      <td>27.431105</td>\n",
              "      <td>12.493680</td>\n",
              "    </tr>\n",
              "    <tr>\n",
              "      <th>1</th>\n",
              "      <td>1.0</td>\n",
              "      <td>-73.986862</td>\n",
              "      <td>40.719383</td>\n",
              "      <td>-73.998886</td>\n",
              "      <td>40.739201</td>\n",
              "      <td>2.428018</td>\n",
              "      <td>2015.0</td>\n",
              "      <td>1.0</td>\n",
              "      <td>27.0</td>\n",
              "      <td>9.0</td>\n",
              "      <td>...</td>\n",
              "      <td>255.030388</td>\n",
              "      <td>84.996445</td>\n",
              "      <td>109.901718</td>\n",
              "      <td>32.868464</td>\n",
              "      <td>86.949034</td>\n",
              "      <td>112.426446</td>\n",
              "      <td>33.623538</td>\n",
              "      <td>37.469450</td>\n",
              "      <td>11.206042</td>\n",
              "      <td>14.489585</td>\n",
              "    </tr>\n",
              "    <tr>\n",
              "      <th>2</th>\n",
              "      <td>1.0</td>\n",
              "      <td>-73.982524</td>\n",
              "      <td>40.751260</td>\n",
              "      <td>-73.979654</td>\n",
              "      <td>40.746139</td>\n",
              "      <td>0.619308</td>\n",
              "      <td>2011.0</td>\n",
              "      <td>10.0</td>\n",
              "      <td>8.0</td>\n",
              "      <td>7.0</td>\n",
              "      <td>...</td>\n",
              "      <td>308.729453</td>\n",
              "      <td>69.375702</td>\n",
              "      <td>61.952406</td>\n",
              "      <td>85.694584</td>\n",
              "      <td>69.329846</td>\n",
              "      <td>61.911456</td>\n",
              "      <td>85.637941</td>\n",
              "      <td>13.912345</td>\n",
              "      <td>19.244009</td>\n",
              "      <td>17.184873</td>\n",
              "    </tr>\n",
              "    <tr>\n",
              "      <th>3</th>\n",
              "      <td>1.0</td>\n",
              "      <td>-73.981160</td>\n",
              "      <td>40.767807</td>\n",
              "      <td>-73.990448</td>\n",
              "      <td>40.751635</td>\n",
              "      <td>1.963187</td>\n",
              "      <td>2012.0</td>\n",
              "      <td>12.0</td>\n",
              "      <td>1.0</td>\n",
              "      <td>17.0</td>\n",
              "      <td>...</td>\n",
              "      <td>313.272783</td>\n",
              "      <td>65.236341</td>\n",
              "      <td>33.700608</td>\n",
              "      <td>111.911317</td>\n",
              "      <td>70.970337</td>\n",
              "      <td>36.662748</td>\n",
              "      <td>121.747845</td>\n",
              "      <td>7.634699</td>\n",
              "      <td>25.352933</td>\n",
              "      <td>13.097137</td>\n",
              "    </tr>\n",
              "    <tr>\n",
              "      <th>4</th>\n",
              "      <td>1.0</td>\n",
              "      <td>-73.966046</td>\n",
              "      <td>40.789775</td>\n",
              "      <td>-73.988565</td>\n",
              "      <td>40.744427</td>\n",
              "      <td>5.393220</td>\n",
              "      <td>2012.0</td>\n",
              "      <td>12.0</td>\n",
              "      <td>1.0</td>\n",
              "      <td>17.0</td>\n",
              "      <td>...</td>\n",
              "      <td>349.436564</td>\n",
              "      <td>74.530006</td>\n",
              "      <td>19.791977</td>\n",
              "      <td>156.935649</td>\n",
              "      <td>92.185887</td>\n",
              "      <td>24.480623</td>\n",
              "      <td>194.113119</td>\n",
              "      <td>5.221380</td>\n",
              "      <td>41.401655</td>\n",
              "      <td>10.994506</td>\n",
              "    </tr>\n",
              "  </tbody>\n",
              "</table>\n",
              "<p>5 rows × 172 columns</p>\n",
              "</div>\n",
              "      <button class=\"colab-df-convert\" onclick=\"convertToInteractive('df-0023fe81-0d1b-4950-9fba-6ee4e38bab77')\"\n",
              "              title=\"Convert this dataframe to an interactive table.\"\n",
              "              style=\"display:none;\">\n",
              "        \n",
              "  <svg xmlns=\"http://www.w3.org/2000/svg\" height=\"24px\"viewBox=\"0 0 24 24\"\n",
              "       width=\"24px\">\n",
              "    <path d=\"M0 0h24v24H0V0z\" fill=\"none\"/>\n",
              "    <path d=\"M18.56 5.44l.94 2.06.94-2.06 2.06-.94-2.06-.94-.94-2.06-.94 2.06-2.06.94zm-11 1L8.5 8.5l.94-2.06 2.06-.94-2.06-.94L8.5 2.5l-.94 2.06-2.06.94zm10 10l.94 2.06.94-2.06 2.06-.94-2.06-.94-.94-2.06-.94 2.06-2.06.94z\"/><path d=\"M17.41 7.96l-1.37-1.37c-.4-.4-.92-.59-1.43-.59-.52 0-1.04.2-1.43.59L10.3 9.45l-7.72 7.72c-.78.78-.78 2.05 0 2.83L4 21.41c.39.39.9.59 1.41.59.51 0 1.02-.2 1.41-.59l7.78-7.78 2.81-2.81c.8-.78.8-2.07 0-2.86zM5.41 20L4 18.59l7.72-7.72 1.47 1.35L5.41 20z\"/>\n",
              "  </svg>\n",
              "      </button>\n",
              "      \n",
              "  <style>\n",
              "    .colab-df-container {\n",
              "      display:flex;\n",
              "      flex-wrap:wrap;\n",
              "      gap: 12px;\n",
              "    }\n",
              "\n",
              "    .colab-df-convert {\n",
              "      background-color: #E8F0FE;\n",
              "      border: none;\n",
              "      border-radius: 50%;\n",
              "      cursor: pointer;\n",
              "      display: none;\n",
              "      fill: #1967D2;\n",
              "      height: 32px;\n",
              "      padding: 0 0 0 0;\n",
              "      width: 32px;\n",
              "    }\n",
              "\n",
              "    .colab-df-convert:hover {\n",
              "      background-color: #E2EBFA;\n",
              "      box-shadow: 0px 1px 2px rgba(60, 64, 67, 0.3), 0px 1px 3px 1px rgba(60, 64, 67, 0.15);\n",
              "      fill: #174EA6;\n",
              "    }\n",
              "\n",
              "    [theme=dark] .colab-df-convert {\n",
              "      background-color: #3B4455;\n",
              "      fill: #D2E3FC;\n",
              "    }\n",
              "\n",
              "    [theme=dark] .colab-df-convert:hover {\n",
              "      background-color: #434B5C;\n",
              "      box-shadow: 0px 1px 3px 1px rgba(0, 0, 0, 0.15);\n",
              "      filter: drop-shadow(0px 1px 2px rgba(0, 0, 0, 0.3));\n",
              "      fill: #FFFFFF;\n",
              "    }\n",
              "  </style>\n",
              "\n",
              "      <script>\n",
              "        const buttonEl =\n",
              "          document.querySelector('#df-0023fe81-0d1b-4950-9fba-6ee4e38bab77 button.colab-df-convert');\n",
              "        buttonEl.style.display =\n",
              "          google.colab.kernel.accessAllowed ? 'block' : 'none';\n",
              "\n",
              "        async function convertToInteractive(key) {\n",
              "          const element = document.querySelector('#df-0023fe81-0d1b-4950-9fba-6ee4e38bab77');\n",
              "          const dataTable =\n",
              "            await google.colab.kernel.invokeFunction('convertToInteractive',\n",
              "                                                     [key], {});\n",
              "          if (!dataTable) return;\n",
              "\n",
              "          const docLinkHtml = 'Like what you see? Visit the ' +\n",
              "            '<a target=\"_blank\" href=https://colab.research.google.com/notebooks/data_table.ipynb>data table notebook</a>'\n",
              "            + ' to learn more about interactive tables.';\n",
              "          element.innerHTML = '';\n",
              "          dataTable['output_type'] = 'display_data';\n",
              "          await google.colab.output.renderOutput(dataTable, element);\n",
              "          const docLink = document.createElement('div');\n",
              "          docLink.innerHTML = docLinkHtml;\n",
              "          element.appendChild(docLink);\n",
              "        }\n",
              "      </script>\n",
              "    </div>\n",
              "  </div>\n",
              "  "
            ]
          },
          "metadata": {},
          "execution_count": 103
        }
      ]
    },
    {
      "cell_type": "code",
      "source": [
        "#RFR, KN, LGBインスタンス作成\n",
        "#trainx, trainy でfit (RFR, KN, LGB)\n",
        "#RandomForest\n",
        "from sklearn.ensemble import GradientBoostingRegressor\n",
        "\n",
        "rfr = RandomForestRegressor(n_estimators=100)\n",
        "rfr.fit(trainx, trainy)\n",
        "\n",
        "#K近傍法\n",
        "kn = KNeighborsRegressor()\n",
        "kn.fit(trainx, trainy)\n",
        "\n",
        "#LGBMRegressor\n",
        "lgb = LGBMRegressor()\n",
        "lgb.fit(trainx, trainy)\n",
        "\n",
        "gbr = GradientBoostingRegressor()\n",
        "gbr.fit(trainx, trainy)\n"
      ],
      "metadata": {
        "id": "5_QrUUmPHfHb",
        "colab": {
          "base_uri": "https://localhost:8080/",
          "height": 75
        },
        "outputId": "a4131166-00b8-4d2b-ca27-b0338fc0fec5"
      },
      "execution_count": 111,
      "outputs": [
        {
          "output_type": "execute_result",
          "data": {
            "text/plain": [
              "GradientBoostingRegressor()"
            ],
            "text/html": [
              "<style>#sk-container-id-7 {color: black;background-color: white;}#sk-container-id-7 pre{padding: 0;}#sk-container-id-7 div.sk-toggleable {background-color: white;}#sk-container-id-7 label.sk-toggleable__label {cursor: pointer;display: block;width: 100%;margin-bottom: 0;padding: 0.3em;box-sizing: border-box;text-align: center;}#sk-container-id-7 label.sk-toggleable__label-arrow:before {content: \"▸\";float: left;margin-right: 0.25em;color: #696969;}#sk-container-id-7 label.sk-toggleable__label-arrow:hover:before {color: black;}#sk-container-id-7 div.sk-estimator:hover label.sk-toggleable__label-arrow:before {color: black;}#sk-container-id-7 div.sk-toggleable__content {max-height: 0;max-width: 0;overflow: hidden;text-align: left;background-color: #f0f8ff;}#sk-container-id-7 div.sk-toggleable__content pre {margin: 0.2em;color: black;border-radius: 0.25em;background-color: #f0f8ff;}#sk-container-id-7 input.sk-toggleable__control:checked~div.sk-toggleable__content {max-height: 200px;max-width: 100%;overflow: auto;}#sk-container-id-7 input.sk-toggleable__control:checked~label.sk-toggleable__label-arrow:before {content: \"▾\";}#sk-container-id-7 div.sk-estimator input.sk-toggleable__control:checked~label.sk-toggleable__label {background-color: #d4ebff;}#sk-container-id-7 div.sk-label input.sk-toggleable__control:checked~label.sk-toggleable__label {background-color: #d4ebff;}#sk-container-id-7 input.sk-hidden--visually {border: 0;clip: rect(1px 1px 1px 1px);clip: rect(1px, 1px, 1px, 1px);height: 1px;margin: -1px;overflow: hidden;padding: 0;position: absolute;width: 1px;}#sk-container-id-7 div.sk-estimator {font-family: monospace;background-color: #f0f8ff;border: 1px dotted black;border-radius: 0.25em;box-sizing: border-box;margin-bottom: 0.5em;}#sk-container-id-7 div.sk-estimator:hover {background-color: #d4ebff;}#sk-container-id-7 div.sk-parallel-item::after {content: \"\";width: 100%;border-bottom: 1px solid gray;flex-grow: 1;}#sk-container-id-7 div.sk-label:hover label.sk-toggleable__label {background-color: #d4ebff;}#sk-container-id-7 div.sk-serial::before {content: \"\";position: absolute;border-left: 1px solid gray;box-sizing: border-box;top: 0;bottom: 0;left: 50%;z-index: 0;}#sk-container-id-7 div.sk-serial {display: flex;flex-direction: column;align-items: center;background-color: white;padding-right: 0.2em;padding-left: 0.2em;position: relative;}#sk-container-id-7 div.sk-item {position: relative;z-index: 1;}#sk-container-id-7 div.sk-parallel {display: flex;align-items: stretch;justify-content: center;background-color: white;position: relative;}#sk-container-id-7 div.sk-item::before, #sk-container-id-7 div.sk-parallel-item::before {content: \"\";position: absolute;border-left: 1px solid gray;box-sizing: border-box;top: 0;bottom: 0;left: 50%;z-index: -1;}#sk-container-id-7 div.sk-parallel-item {display: flex;flex-direction: column;z-index: 1;position: relative;background-color: white;}#sk-container-id-7 div.sk-parallel-item:first-child::after {align-self: flex-end;width: 50%;}#sk-container-id-7 div.sk-parallel-item:last-child::after {align-self: flex-start;width: 50%;}#sk-container-id-7 div.sk-parallel-item:only-child::after {width: 0;}#sk-container-id-7 div.sk-dashed-wrapped {border: 1px dashed gray;margin: 0 0.4em 0.5em 0.4em;box-sizing: border-box;padding-bottom: 0.4em;background-color: white;}#sk-container-id-7 div.sk-label label {font-family: monospace;font-weight: bold;display: inline-block;line-height: 1.2em;}#sk-container-id-7 div.sk-label-container {text-align: center;}#sk-container-id-7 div.sk-container {/* jupyter's `normalize.less` sets `[hidden] { display: none; }` but bootstrap.min.css set `[hidden] { display: none !important; }` so we also need the `!important` here to be able to override the default hidden behavior on the sphinx rendered scikit-learn.org. See: https://github.com/scikit-learn/scikit-learn/issues/21755 */display: inline-block !important;position: relative;}#sk-container-id-7 div.sk-text-repr-fallback {display: none;}</style><div id=\"sk-container-id-7\" class=\"sk-top-container\"><div class=\"sk-text-repr-fallback\"><pre>GradientBoostingRegressor()</pre><b>In a Jupyter environment, please rerun this cell to show the HTML representation or trust the notebook. <br />On GitHub, the HTML representation is unable to render, please try loading this page with nbviewer.org.</b></div><div class=\"sk-container\" hidden><div class=\"sk-item\"><div class=\"sk-estimator sk-toggleable\"><input class=\"sk-toggleable__control sk-hidden--visually\" id=\"sk-estimator-id-7\" type=\"checkbox\" checked><label for=\"sk-estimator-id-7\" class=\"sk-toggleable__label sk-toggleable__label-arrow\">GradientBoostingRegressor</label><div class=\"sk-toggleable__content\"><pre>GradientBoostingRegressor()</pre></div></div></div></div></div>"
            ]
          },
          "metadata": {},
          "execution_count": 111
        }
      ]
    },
    {
      "cell_type": "code",
      "source": [
        "xgb = XGBRegressor()\n",
        "xgb.fit(trainx, trainy)"
      ],
      "metadata": {
        "colab": {
          "base_uri": "https://localhost:8080/",
          "height": 248
        },
        "id": "70DEot1oZyvG",
        "outputId": "b2120561-7073-41cd-b622-a41aecfed86e"
      },
      "execution_count": 112,
      "outputs": [
        {
          "output_type": "execute_result",
          "data": {
            "text/plain": [
              "XGBRegressor(base_score=None, booster=None, callbacks=None,\n",
              "             colsample_bylevel=None, colsample_bynode=None,\n",
              "             colsample_bytree=None, early_stopping_rounds=None,\n",
              "             enable_categorical=False, eval_metric=None, feature_types=None,\n",
              "             gamma=None, gpu_id=None, grow_policy=None, importance_type=None,\n",
              "             interaction_constraints=None, learning_rate=None, max_bin=None,\n",
              "             max_cat_threshold=None, max_cat_to_onehot=None,\n",
              "             max_delta_step=None, max_depth=None, max_leaves=None,\n",
              "             min_child_weight=None, missing=nan, monotone_constraints=None,\n",
              "             n_estimators=100, n_jobs=None, num_parallel_tree=None,\n",
              "             predictor=None, random_state=None, ...)"
            ],
            "text/html": [
              "<style>#sk-container-id-8 {color: black;background-color: white;}#sk-container-id-8 pre{padding: 0;}#sk-container-id-8 div.sk-toggleable {background-color: white;}#sk-container-id-8 label.sk-toggleable__label {cursor: pointer;display: block;width: 100%;margin-bottom: 0;padding: 0.3em;box-sizing: border-box;text-align: center;}#sk-container-id-8 label.sk-toggleable__label-arrow:before {content: \"▸\";float: left;margin-right: 0.25em;color: #696969;}#sk-container-id-8 label.sk-toggleable__label-arrow:hover:before {color: black;}#sk-container-id-8 div.sk-estimator:hover label.sk-toggleable__label-arrow:before {color: black;}#sk-container-id-8 div.sk-toggleable__content {max-height: 0;max-width: 0;overflow: hidden;text-align: left;background-color: #f0f8ff;}#sk-container-id-8 div.sk-toggleable__content pre {margin: 0.2em;color: black;border-radius: 0.25em;background-color: #f0f8ff;}#sk-container-id-8 input.sk-toggleable__control:checked~div.sk-toggleable__content {max-height: 200px;max-width: 100%;overflow: auto;}#sk-container-id-8 input.sk-toggleable__control:checked~label.sk-toggleable__label-arrow:before {content: \"▾\";}#sk-container-id-8 div.sk-estimator input.sk-toggleable__control:checked~label.sk-toggleable__label {background-color: #d4ebff;}#sk-container-id-8 div.sk-label input.sk-toggleable__control:checked~label.sk-toggleable__label {background-color: #d4ebff;}#sk-container-id-8 input.sk-hidden--visually {border: 0;clip: rect(1px 1px 1px 1px);clip: rect(1px, 1px, 1px, 1px);height: 1px;margin: -1px;overflow: hidden;padding: 0;position: absolute;width: 1px;}#sk-container-id-8 div.sk-estimator {font-family: monospace;background-color: #f0f8ff;border: 1px dotted black;border-radius: 0.25em;box-sizing: border-box;margin-bottom: 0.5em;}#sk-container-id-8 div.sk-estimator:hover {background-color: #d4ebff;}#sk-container-id-8 div.sk-parallel-item::after {content: \"\";width: 100%;border-bottom: 1px solid gray;flex-grow: 1;}#sk-container-id-8 div.sk-label:hover label.sk-toggleable__label {background-color: #d4ebff;}#sk-container-id-8 div.sk-serial::before {content: \"\";position: absolute;border-left: 1px solid gray;box-sizing: border-box;top: 0;bottom: 0;left: 50%;z-index: 0;}#sk-container-id-8 div.sk-serial {display: flex;flex-direction: column;align-items: center;background-color: white;padding-right: 0.2em;padding-left: 0.2em;position: relative;}#sk-container-id-8 div.sk-item {position: relative;z-index: 1;}#sk-container-id-8 div.sk-parallel {display: flex;align-items: stretch;justify-content: center;background-color: white;position: relative;}#sk-container-id-8 div.sk-item::before, #sk-container-id-8 div.sk-parallel-item::before {content: \"\";position: absolute;border-left: 1px solid gray;box-sizing: border-box;top: 0;bottom: 0;left: 50%;z-index: -1;}#sk-container-id-8 div.sk-parallel-item {display: flex;flex-direction: column;z-index: 1;position: relative;background-color: white;}#sk-container-id-8 div.sk-parallel-item:first-child::after {align-self: flex-end;width: 50%;}#sk-container-id-8 div.sk-parallel-item:last-child::after {align-self: flex-start;width: 50%;}#sk-container-id-8 div.sk-parallel-item:only-child::after {width: 0;}#sk-container-id-8 div.sk-dashed-wrapped {border: 1px dashed gray;margin: 0 0.4em 0.5em 0.4em;box-sizing: border-box;padding-bottom: 0.4em;background-color: white;}#sk-container-id-8 div.sk-label label {font-family: monospace;font-weight: bold;display: inline-block;line-height: 1.2em;}#sk-container-id-8 div.sk-label-container {text-align: center;}#sk-container-id-8 div.sk-container {/* jupyter's `normalize.less` sets `[hidden] { display: none; }` but bootstrap.min.css set `[hidden] { display: none !important; }` so we also need the `!important` here to be able to override the default hidden behavior on the sphinx rendered scikit-learn.org. See: https://github.com/scikit-learn/scikit-learn/issues/21755 */display: inline-block !important;position: relative;}#sk-container-id-8 div.sk-text-repr-fallback {display: none;}</style><div id=\"sk-container-id-8\" class=\"sk-top-container\"><div class=\"sk-text-repr-fallback\"><pre>XGBRegressor(base_score=None, booster=None, callbacks=None,\n",
              "             colsample_bylevel=None, colsample_bynode=None,\n",
              "             colsample_bytree=None, early_stopping_rounds=None,\n",
              "             enable_categorical=False, eval_metric=None, feature_types=None,\n",
              "             gamma=None, gpu_id=None, grow_policy=None, importance_type=None,\n",
              "             interaction_constraints=None, learning_rate=None, max_bin=None,\n",
              "             max_cat_threshold=None, max_cat_to_onehot=None,\n",
              "             max_delta_step=None, max_depth=None, max_leaves=None,\n",
              "             min_child_weight=None, missing=nan, monotone_constraints=None,\n",
              "             n_estimators=100, n_jobs=None, num_parallel_tree=None,\n",
              "             predictor=None, random_state=None, ...)</pre><b>In a Jupyter environment, please rerun this cell to show the HTML representation or trust the notebook. <br />On GitHub, the HTML representation is unable to render, please try loading this page with nbviewer.org.</b></div><div class=\"sk-container\" hidden><div class=\"sk-item\"><div class=\"sk-estimator sk-toggleable\"><input class=\"sk-toggleable__control sk-hidden--visually\" id=\"sk-estimator-id-8\" type=\"checkbox\" checked><label for=\"sk-estimator-id-8\" class=\"sk-toggleable__label sk-toggleable__label-arrow\">XGBRegressor</label><div class=\"sk-toggleable__content\"><pre>XGBRegressor(base_score=None, booster=None, callbacks=None,\n",
              "             colsample_bylevel=None, colsample_bynode=None,\n",
              "             colsample_bytree=None, early_stopping_rounds=None,\n",
              "             enable_categorical=False, eval_metric=None, feature_types=None,\n",
              "             gamma=None, gpu_id=None, grow_policy=None, importance_type=None,\n",
              "             interaction_constraints=None, learning_rate=None, max_bin=None,\n",
              "             max_cat_threshold=None, max_cat_to_onehot=None,\n",
              "             max_delta_step=None, max_depth=None, max_leaves=None,\n",
              "             min_child_weight=None, missing=nan, monotone_constraints=None,\n",
              "             n_estimators=100, n_jobs=None, num_parallel_tree=None,\n",
              "             predictor=None, random_state=None, ...)</pre></div></div></div></div></div>"
            ]
          },
          "metadata": {},
          "execution_count": 112
        }
      ]
    },
    {
      "cell_type": "code",
      "source": [
        "#15:07-15:20\n",
        "xgb_p = XGBRegressor()\n",
        "xgb_p.fit(trainx_poly_df, trainy)\n"
      ],
      "metadata": {
        "colab": {
          "base_uri": "https://localhost:8080/",
          "height": 248
        },
        "id": "ERZbatEuhnRZ",
        "outputId": "fa5b6e93-7bc4-4460-9a19-0d9e8dc5ba4e"
      },
      "execution_count": 113,
      "outputs": [
        {
          "output_type": "execute_result",
          "data": {
            "text/plain": [
              "XGBRegressor(base_score=None, booster=None, callbacks=None,\n",
              "             colsample_bylevel=None, colsample_bynode=None,\n",
              "             colsample_bytree=None, early_stopping_rounds=None,\n",
              "             enable_categorical=False, eval_metric=None, feature_types=None,\n",
              "             gamma=None, gpu_id=None, grow_policy=None, importance_type=None,\n",
              "             interaction_constraints=None, learning_rate=None, max_bin=None,\n",
              "             max_cat_threshold=None, max_cat_to_onehot=None,\n",
              "             max_delta_step=None, max_depth=None, max_leaves=None,\n",
              "             min_child_weight=None, missing=nan, monotone_constraints=None,\n",
              "             n_estimators=100, n_jobs=None, num_parallel_tree=None,\n",
              "             predictor=None, random_state=None, ...)"
            ],
            "text/html": [
              "<style>#sk-container-id-9 {color: black;background-color: white;}#sk-container-id-9 pre{padding: 0;}#sk-container-id-9 div.sk-toggleable {background-color: white;}#sk-container-id-9 label.sk-toggleable__label {cursor: pointer;display: block;width: 100%;margin-bottom: 0;padding: 0.3em;box-sizing: border-box;text-align: center;}#sk-container-id-9 label.sk-toggleable__label-arrow:before {content: \"▸\";float: left;margin-right: 0.25em;color: #696969;}#sk-container-id-9 label.sk-toggleable__label-arrow:hover:before {color: black;}#sk-container-id-9 div.sk-estimator:hover label.sk-toggleable__label-arrow:before {color: black;}#sk-container-id-9 div.sk-toggleable__content {max-height: 0;max-width: 0;overflow: hidden;text-align: left;background-color: #f0f8ff;}#sk-container-id-9 div.sk-toggleable__content pre {margin: 0.2em;color: black;border-radius: 0.25em;background-color: #f0f8ff;}#sk-container-id-9 input.sk-toggleable__control:checked~div.sk-toggleable__content {max-height: 200px;max-width: 100%;overflow: auto;}#sk-container-id-9 input.sk-toggleable__control:checked~label.sk-toggleable__label-arrow:before {content: \"▾\";}#sk-container-id-9 div.sk-estimator input.sk-toggleable__control:checked~label.sk-toggleable__label {background-color: #d4ebff;}#sk-container-id-9 div.sk-label input.sk-toggleable__control:checked~label.sk-toggleable__label {background-color: #d4ebff;}#sk-container-id-9 input.sk-hidden--visually {border: 0;clip: rect(1px 1px 1px 1px);clip: rect(1px, 1px, 1px, 1px);height: 1px;margin: -1px;overflow: hidden;padding: 0;position: absolute;width: 1px;}#sk-container-id-9 div.sk-estimator {font-family: monospace;background-color: #f0f8ff;border: 1px dotted black;border-radius: 0.25em;box-sizing: border-box;margin-bottom: 0.5em;}#sk-container-id-9 div.sk-estimator:hover {background-color: #d4ebff;}#sk-container-id-9 div.sk-parallel-item::after {content: \"\";width: 100%;border-bottom: 1px solid gray;flex-grow: 1;}#sk-container-id-9 div.sk-label:hover label.sk-toggleable__label {background-color: #d4ebff;}#sk-container-id-9 div.sk-serial::before {content: \"\";position: absolute;border-left: 1px solid gray;box-sizing: border-box;top: 0;bottom: 0;left: 50%;z-index: 0;}#sk-container-id-9 div.sk-serial {display: flex;flex-direction: column;align-items: center;background-color: white;padding-right: 0.2em;padding-left: 0.2em;position: relative;}#sk-container-id-9 div.sk-item {position: relative;z-index: 1;}#sk-container-id-9 div.sk-parallel {display: flex;align-items: stretch;justify-content: center;background-color: white;position: relative;}#sk-container-id-9 div.sk-item::before, #sk-container-id-9 div.sk-parallel-item::before {content: \"\";position: absolute;border-left: 1px solid gray;box-sizing: border-box;top: 0;bottom: 0;left: 50%;z-index: -1;}#sk-container-id-9 div.sk-parallel-item {display: flex;flex-direction: column;z-index: 1;position: relative;background-color: white;}#sk-container-id-9 div.sk-parallel-item:first-child::after {align-self: flex-end;width: 50%;}#sk-container-id-9 div.sk-parallel-item:last-child::after {align-self: flex-start;width: 50%;}#sk-container-id-9 div.sk-parallel-item:only-child::after {width: 0;}#sk-container-id-9 div.sk-dashed-wrapped {border: 1px dashed gray;margin: 0 0.4em 0.5em 0.4em;box-sizing: border-box;padding-bottom: 0.4em;background-color: white;}#sk-container-id-9 div.sk-label label {font-family: monospace;font-weight: bold;display: inline-block;line-height: 1.2em;}#sk-container-id-9 div.sk-label-container {text-align: center;}#sk-container-id-9 div.sk-container {/* jupyter's `normalize.less` sets `[hidden] { display: none; }` but bootstrap.min.css set `[hidden] { display: none !important; }` so we also need the `!important` here to be able to override the default hidden behavior on the sphinx rendered scikit-learn.org. See: https://github.com/scikit-learn/scikit-learn/issues/21755 */display: inline-block !important;position: relative;}#sk-container-id-9 div.sk-text-repr-fallback {display: none;}</style><div id=\"sk-container-id-9\" class=\"sk-top-container\"><div class=\"sk-text-repr-fallback\"><pre>XGBRegressor(base_score=None, booster=None, callbacks=None,\n",
              "             colsample_bylevel=None, colsample_bynode=None,\n",
              "             colsample_bytree=None, early_stopping_rounds=None,\n",
              "             enable_categorical=False, eval_metric=None, feature_types=None,\n",
              "             gamma=None, gpu_id=None, grow_policy=None, importance_type=None,\n",
              "             interaction_constraints=None, learning_rate=None, max_bin=None,\n",
              "             max_cat_threshold=None, max_cat_to_onehot=None,\n",
              "             max_delta_step=None, max_depth=None, max_leaves=None,\n",
              "             min_child_weight=None, missing=nan, monotone_constraints=None,\n",
              "             n_estimators=100, n_jobs=None, num_parallel_tree=None,\n",
              "             predictor=None, random_state=None, ...)</pre><b>In a Jupyter environment, please rerun this cell to show the HTML representation or trust the notebook. <br />On GitHub, the HTML representation is unable to render, please try loading this page with nbviewer.org.</b></div><div class=\"sk-container\" hidden><div class=\"sk-item\"><div class=\"sk-estimator sk-toggleable\"><input class=\"sk-toggleable__control sk-hidden--visually\" id=\"sk-estimator-id-9\" type=\"checkbox\" checked><label for=\"sk-estimator-id-9\" class=\"sk-toggleable__label sk-toggleable__label-arrow\">XGBRegressor</label><div class=\"sk-toggleable__content\"><pre>XGBRegressor(base_score=None, booster=None, callbacks=None,\n",
              "             colsample_bylevel=None, colsample_bynode=None,\n",
              "             colsample_bytree=None, early_stopping_rounds=None,\n",
              "             enable_categorical=False, eval_metric=None, feature_types=None,\n",
              "             gamma=None, gpu_id=None, grow_policy=None, importance_type=None,\n",
              "             interaction_constraints=None, learning_rate=None, max_bin=None,\n",
              "             max_cat_threshold=None, max_cat_to_onehot=None,\n",
              "             max_delta_step=None, max_depth=None, max_leaves=None,\n",
              "             min_child_weight=None, missing=nan, monotone_constraints=None,\n",
              "             n_estimators=100, n_jobs=None, num_parallel_tree=None,\n",
              "             predictor=None, random_state=None, ...)</pre></div></div></div></div></div>"
            ]
          },
          "metadata": {},
          "execution_count": 113
        }
      ]
    },
    {
      "cell_type": "code",
      "source": [
        "#testx でpredict (RFR, KN, LGB) ... ①\n",
        "#15:21-15:23\n",
        "ytest_pred_rfr = rfr.predict(testx)\n",
        "ytest_pred_kn = kn.predict(testx)\n",
        "ytest_pred_lgb = lgb.predict(testx)\n",
        "ytest_pred_xgb = xgb.predict(testx)\n",
        "ytest_pred_gbr = gbr.predict(testx)\n",
        "ytest_pred_xgb_p = xgb_p.predict(testx_poly_df)\n",
        "\n",
        "display(np.sqrt(mean_squared_error(testy, ytest_pred_rfr)))\n",
        "display(np.sqrt(mean_squared_error(testy, ytest_pred_kn)))\n",
        "display(np.sqrt(mean_squared_error(testy, ytest_pred_lgb)))\n",
        "display(np.sqrt(mean_squared_error(testy, ytest_pred_xgb)))\n",
        "display(np.sqrt(mean_squared_error(testy, ytest_pred_gbr)))\n",
        "display(np.sqrt(mean_squared_error(testy, ytest_pred_xgb_p)))\n",
        "\n",
        "#3.7303997342422277\n",
        "#4.792474518988727\n",
        "#3.7494206081680295\n",
        "#3.6807208314906426\n",
        "\n",
        "#3.8874980332733653\n",
        "#4.412783535465106\n",
        "#3.8507086639436063\n",
        "#3.7943826808290173\n",
        "#4.045380691784848\n",
        "\n",
        "#3.883625428887753\n",
        "#4.403251424180471\n",
        "#3.8660269611385885\n",
        "#3.8257819289843713\n",
        "#4.030466374436798\n",
        "\n",
        "#3.8398107749683468 rfr\n",
        "#4.36644468552393.  kn\n",
        "#3.7495445544720187.lgb\n",
        "#3.731805199214424. xgb\n",
        "#3.9303694158087765.gbr\n",
        "#3.722072336617572. xgb (PolynomialFeatures)\n",
        "\n",
        "#omitted : 'satsun', 'late_early', 'rush_hour'\n",
        "#3.8128264698993983 rfr\n",
        "#4.356847902732569  kn\n",
        "#3.7421533627943373 lgb\n",
        "#3.762958948827867. xgb\n",
        "#3.9324730525850846.gbr\n",
        "#3.720382169629585. xgb (PolynomialFeatures)\n"
      ],
      "metadata": {
        "colab": {
          "base_uri": "https://localhost:8080/",
          "height": 121
        },
        "id": "h9YYv0mC9LFk",
        "outputId": "b4b28c5d-88ad-4d73-e007-e4bd5518104b"
      },
      "execution_count": 114,
      "outputs": [
        {
          "output_type": "display_data",
          "data": {
            "text/plain": [
              "3.8128264698993983"
            ]
          },
          "metadata": {}
        },
        {
          "output_type": "display_data",
          "data": {
            "text/plain": [
              "4.356847902732569"
            ]
          },
          "metadata": {}
        },
        {
          "output_type": "display_data",
          "data": {
            "text/plain": [
              "3.7421533627943373"
            ]
          },
          "metadata": {}
        },
        {
          "output_type": "display_data",
          "data": {
            "text/plain": [
              "3.762958948827867"
            ]
          },
          "metadata": {}
        },
        {
          "output_type": "display_data",
          "data": {
            "text/plain": [
              "3.9324730525850846"
            ]
          },
          "metadata": {}
        },
        {
          "output_type": "display_data",
          "data": {
            "text/plain": [
              "3.720382169629585"
            ]
          },
          "metadata": {}
        }
      ]
    },
    {
      "cell_type": "code",
      "source": [
        "#. ①(testx, testy)の結果を stack ... ③\n",
        "#stack_test = np.column_stack( [ytest_pred_rfr, ytest_pred_kn, ytest_pred_lgb,ytest_pred_xgb, ytest_pred_gbr,ytest_pred_xgb_p])\n",
        "stack_test = np.column_stack( [ytest_pred_rfr, ytest_pred_lgb,ytest_pred_xgb, ytest_pred_gbr,ytest_pred_xgb_p])\n",
        "stack_test.shape\n"
      ],
      "metadata": {
        "colab": {
          "base_uri": "https://localhost:8080/"
        },
        "id": "QVKF1gwWK80c",
        "outputId": "c0fb5827-7db2-4b0b-bbb7-8a64fcc72d09"
      },
      "execution_count": 115,
      "outputs": [
        {
          "output_type": "execute_result",
          "data": {
            "text/plain": [
              "(97726, 5)"
            ]
          },
          "metadata": {},
          "execution_count": 115
        }
      ]
    },
    {
      "cell_type": "code",
      "source": [
        "#data5psX で predict (RFR, KN, LGB, XGB, GBR, XGB_P) ... ②\n",
        "#. ②(data5ps) の結果を stack ...④\n",
        "y5ps_pred_rfr = rfr.predict(data5psX)\n",
        "y5ps_pred_kn = kn.predict(data5psX)\n",
        "y5ps_pred_lgb = lgb.predict(data5psX)\n",
        "y5ps_pred_xgb = xgb.predict(data5psX)\n",
        "y5ps_pred_gbr = gbr.predict(data5psX)\n",
        "y5ps_pred_xgb_p = xgb_p.predict(data5psX_poly_df)\n"
      ],
      "metadata": {
        "id": "wQ1QOvOC-cGO"
      },
      "execution_count": 116,
      "outputs": []
    },
    {
      "cell_type": "code",
      "source": [
        "#stack_5ps = np.column_stack( [y5ps_pred_rfr, y5ps_pred_kn,y5ps_pred_lgb,y5ps_pred_xgb,y5ps_pred_gbr,y5ps_pred_xgb_p])\n",
        "stack_5ps = np.column_stack( [y5ps_pred_rfr, y5ps_pred_lgb,y5ps_pred_xgb,y5ps_pred_gbr,y5ps_pred_xgb_p])\n",
        "stack_5ps.shape\n"
      ],
      "metadata": {
        "colab": {
          "base_uri": "https://localhost:8080/"
        },
        "id": "iqSHWqr2bDBp",
        "outputId": "d45b2761-ac32-47a1-c76e-a78c3378da5f"
      },
      "execution_count": 94,
      "outputs": [
        {
          "output_type": "execute_result",
          "data": {
            "text/plain": [
              "(9914, 5)"
            ]
          },
          "metadata": {},
          "execution_count": 94
        }
      ]
    },
    {
      "cell_type": "code",
      "source": [
        "#LinearRegressionインスタンス作成\n",
        "lr = LinearRegression()\n",
        "\n",
        "#. ③(testx, testy利用) と testy で fit (LR)\n",
        "lr.fit(stack_test, testy)\n",
        "\n",
        "\n",
        "#. ④(data5ps) で predict (LR)\n",
        "final_pred = lr.predict(stack_5ps)"
      ],
      "metadata": {
        "id": "XFGSNzMtwGho"
      },
      "execution_count": 117,
      "outputs": []
    },
    {
      "cell_type": "code",
      "source": [
        "final_pred.shape\n",
        "sample = pd.read_csv('./sample_submission.csv')\n",
        "sample.shape"
      ],
      "metadata": {
        "colab": {
          "base_uri": "https://localhost:8080/"
        },
        "id": "be97oAM9_Ui4",
        "outputId": "9c239e6c-5b24-4360-9319-53dc3ece3f2d"
      },
      "execution_count": 118,
      "outputs": [
        {
          "output_type": "execute_result",
          "data": {
            "text/plain": [
              "(9914, 2)"
            ]
          },
          "metadata": {},
          "execution_count": 118
        }
      ]
    },
    {
      "cell_type": "code",
      "source": [
        "sample['fare_amount'] = final_pred\n"
      ],
      "metadata": {
        "id": "wfCBkKgetpzV"
      },
      "execution_count": 119,
      "outputs": []
    },
    {
      "cell_type": "code",
      "source": [
        "sample.to_csv('./submission_stacking_0616h.csv',index=False)\n"
      ],
      "metadata": {
        "id": "lG222JvWuc31"
      },
      "execution_count": 120,
      "outputs": []
    },
    {
      "cell_type": "code",
      "source": [],
      "metadata": {
        "id": "sizZUoGnrFOn"
      },
      "execution_count": null,
      "outputs": []
    }
  ],
  "metadata": {
    "colab": {
      "provenance": [],
      "gpuType": "T4",
      "machine_shape": "hm",
      "include_colab_link": true
    },
    "kernelspec": {
      "display_name": "Python 3",
      "name": "python3"
    }
  },
  "nbformat": 4,
  "nbformat_minor": 0
}